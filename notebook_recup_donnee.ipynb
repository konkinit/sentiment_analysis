{
 "cells": [
  {
   "cell_type": "markdown",
   "id": "75c4b45a-959e-42fd-9438-1cca692ed3c6",
   "metadata": {},
   "source": [
    "# **Analyse de sentiments sur les vaccins COVID administrés en France**\n",
    "**Projet Python - 2A ENSAE**\n",
    "\n",
    "KOAGNE FONGUIENG Florette, KONKOBO Idrissa"
   ]
  },
  {
   "cell_type": "markdown",
   "id": "323d8190-5030-437b-a1b8-57c55717498a",
   "metadata": {},
   "source": [
    "# Introduction"
   ]
  },
  {
   "cell_type": "markdown",
   "id": "3286ac1b-ac1b-4f64-bcf8-f46fd9e73a1c",
   "metadata": {},
   "source": [
    "Ce notebook a été créé pour les requètes via les API. En effet, Les données utilisées dans le projet sont des tweets et l'API de Twitter à été utilisé. Pour pouvoir exécuter les cellules ci-dessous, un compte sur Twitter Developer Portal est nécéssaire. Les étapes à suivre sont donc \n",
    "+ Créer un compte sur Twitter Developer Portal\n",
    "+ Demander le niveau d'API *ELEVATED*\n",
    "+ Créer un projet et demander l'accès *V2 ACCESS*\n",
    "+ Configurer l'environnement *Search Tweets: Full ArchiveSandbox* qui donne accès à l'archive complète des tweets\n",
    "+ Créer un fichier d'extension yaml dont le contenu est identique à la cellule ci-dessus avec les informations bien fournies"
   ]
  },
  {
   "cell_type": "raw",
   "id": "b4e47eae-bc57-45c1-b4d1-0da46a98f47f",
   "metadata": {},
   "source": [
    "search_tweets_api:\n",
    "    account_type: premium\n",
    "    bearer_token: <<renseigner_le_bearer_token>>\n",
    "    # consumer_key: <<renseigner_le_consumer_key>>\n",
    "    # consumer_secret: <<renseigner_le_consumer_secret_key>>\n",
    "    endpoint: https://api.twitter.com/1.1/tweets/search/fullarchive/<<renseigner_le_nom_de_l_environnement>>.json"
   ]
  },
  {
   "cell_type": "markdown",
   "id": "260b369b-69ab-451e-b10d-7de6d791f009",
   "metadata": {},
   "source": [
    "# Importation"
   ]
  },
  {
   "cell_type": "code",
   "execution_count": null,
   "id": "d4d5c78b-f105-4ad4-b461-944b769e8d6b",
   "metadata": {},
   "outputs": [],
   "source": [
    "# !pip install searchtweets"
   ]
  },
  {
   "cell_type": "code",
   "execution_count": null,
   "id": "ec919ab1-cf58-4b03-bb88-5e3f68d1feb6",
   "metadata": {},
   "outputs": [],
   "source": [
    "# !pip install glob"
   ]
  },
  {
   "cell_type": "code",
   "execution_count": null,
   "id": "d283c139-681c-4df9-965a-73f752470084",
   "metadata": {},
   "outputs": [],
   "source": [
    "import pandas as pd\n",
    "import numpy as np\n",
    "import searchtweets\n",
    "from datetime import *\n",
    "import glob, os"
   ]
  },
  {
   "cell_type": "markdown",
   "id": "9ca85b68",
   "metadata": {
    "tags": []
   },
   "source": [
    "# Récupération des tweets via l'API de Twitter"
   ]
  },
  {
   "cell_type": "markdown",
   "id": "7b7245ae-b5b8-4e20-b444-38268919597b",
   "metadata": {},
   "source": [
    "Dans cette section, on définit les fonctions permettant la connexion au EndPoint de Twittter et la récupération des données selon les termes clés, les dates et d'autres caractéristiques."
   ]
  },
  {
   "cell_type": "markdown",
   "id": "04f18665-a094-4703-8911-4934109fd0b0",
   "metadata": {},
   "source": [
    "## Définition des fonctions"
   ]
  },
  {
   "cell_type": "code",
   "execution_count": null,
   "id": "cb24e2a0-44e6-413e-bed0-711dd59f54dc",
   "metadata": {},
   "outputs": [],
   "source": [
    "premium_search_args = searchtweets.load_credentials(\"twitter_keys_idrissa.yaml\",\n",
    "                                                    yaml_key=\"search_tweets_api\",\n",
    "                                                    env_overwrite=False)"
   ]
  },
  {
   "cell_type": "code",
   "execution_count": null,
   "id": "2cb32052-b104-4961-a4bc-36f76d502663",
   "metadata": {},
   "outputs": [],
   "source": [
    "# cette fonction récupère en format json les tweets entre *date_debut* et *date_fin* contenant le mot *vaccin*\n",
    "def tweets_entre_2dates(vaccin, date_debut, date_fin):\n",
    "    rule = searchtweets.gen_rule_payload(\"(\"+vaccin+\") lang:fr place_country:FR\", \n",
    "                                         results_per_call=100, from_date=date_debut, to_date=date_fin) \n",
    "\n",
    "    rs = searchtweets.ResultStream(rule_payload=rule,\n",
    "                      max_results=100,\n",
    "                      **premium_search_args)\n",
    "\n",
    "    return list(rs.stream())"
   ]
  },
  {
   "cell_type": "code",
   "execution_count": null,
   "id": "beb31a9e-d6ca-4465-8b26-3790d1e57265",
   "metadata": {},
   "outputs": [],
   "source": [
    "# cette fonction crée un fichier csv des tweets requétés avec la précédente fonction\n",
    "def csv_tweets_entre2dates(vaccin, date_debut, date_fin):\n",
    "    tweets = tweets_entre_2dates(vaccin, date_debut, date_fin)\n",
    "    clean_tweets = []\n",
    "    fields = ['id', \"date\", 'screenName', \"texte\", \"type\", \"nbre_like\", \"nbre_retweet\", \"type_vaccin\"]\n",
    "    for tweet in tweets:\n",
    "        clean_tweet = [tweet.id, datetime.fromtimestamp(tweet.created_at_seconds), tweet.screen_name, tweet.all_text, tweet.tweet_type, tweet.favorite_count, tweet.retweet_count, vaccin]\n",
    "        clean_tweets.append(clean_tweet)\n",
    "\n",
    "    tweets_df = pd.DataFrame(clean_tweets)\n",
    "    tweets_df.columns = fields\n",
    "    tweets_df.to_csv('~/work/projetpy/csv_tweets/tweets_'+vaccin+'_'+date_debut+'_a_'+date_fin+'.csv', index = False, header=True)"
   ]
  },
  {
   "cell_type": "markdown",
   "id": "d7d744ab-17c4-4836-a47a-71fbe977a33f",
   "metadata": {},
   "source": [
    "Les vaccins administrés en France sont Pfizer, Janssen, Moderna et AstraZeneca. Tous n'ont pas la même popularité. Par exemple, le vaccin Pfizer est l'un les plus utilisés. Cela pourrait causer de nombreux tweets citant certains vaccins et très peu de tweets citant d'autres sur un intervalle de temps donné. Pour maximiser le nombre de tweets requêtés, chaque appel à l'API concernat le vaccin Pfizer couvrira un intervalle de 7 jours. Quant aux autres vaccins, on utilise un écart de 20 jours. Les fonctions définies ci-dessous ont pour objectif d'automatiser les appels."
   ]
  },
  {
   "cell_type": "code",
   "execution_count": null,
   "id": "d0e1d071-d210-4d0c-8a1e-296fc9f7cdf1",
   "metadata": {},
   "outputs": [],
   "source": [
    "# des fonctions définies pour faciliter l'automatisation des requètages : convertissent une date de format string en format datetime, \n",
    "# effectue l'opération d'ajout puis retorne une date en format string\n",
    "\n",
    "def ajout_7_jrs(dte):\n",
    "    date = datetime.strptime(dte, \"%Y-%m-%d\")\n",
    "    modified_date = date + timedelta(days=7)\n",
    "    return datetime.strftime(modified_date, \"%Y-%m-%d\")\n",
    "\n",
    "def ajout_20_jrs(dte):\n",
    "    date = datetime.strptime(dte, \"%Y-%m-%d\")\n",
    "    modified_date = date + timedelta(days=20)\n",
    "    return datetime.strftime(modified_date, \"%Y-%m-%d\")"
   ]
  },
  {
   "cell_type": "code",
   "execution_count": null,
   "id": "bebd3753-dbe2-4bd1-bcf9-9d93fd9e0d36",
   "metadata": {},
   "outputs": [],
   "source": [
    "def import_pfizer_tweets(date_debut, date_fin) : \n",
    "    date_suivante = ajout_7_jrs(date_debut)\n",
    "    while datetime.strptime(date_suivante, \"%Y-%m-%d\") < datetime.strptime(date_fin, \"%Y-%m-%d\") :\n",
    "        csv_tweets_entre2dates(\"pfizer\", date_debut, date_suivante)\n",
    "        date_debut = date_suivante\n",
    "        date_suivante = ajout_7_jrs(date_suivante)"
   ]
  },
  {
   "cell_type": "code",
   "execution_count": null,
   "id": "c4625aa7-2b90-4c84-9e51-c4d222bc2d44",
   "metadata": {},
   "outputs": [],
   "source": [
    "def import_tweets(vaccin, date_debut, date_fin) : \n",
    "    date_suivante = ajout_20_jrs(date_debut)\n",
    "    while datetime.strptime(date_suivante, \"%Y-%m-%d\") < datetime.strptime(date_fin, \"%Y-%m-%d\") :\n",
    "        csv_tweets_entre2dates(vaccin, date_debut, date_suivante)\n",
    "        date_debut = date_suivante\n",
    "        date_suivante = ajout_20_jrs(date_suivante)"
   ]
  },
  {
   "cell_type": "code",
   "execution_count": null,
   "id": "43356215-44c2-4b11-8812-b8f59501d05b",
   "metadata": {},
   "outputs": [],
   "source": [
    "def import_pfizer_tweets(date_debut, date_fin) : \n",
    "    date_suivante = ajout_7_jrs(date_debut)\n",
    "    while datetime.strptime(date_suivante, \"%Y-%m-%d\") < datetime.strptime(date_fin, \"%Y-%m-%d\") :\n",
    "        csv_tweets_entre2dates(\"pfizer\", date_debut, date_suivante)\n",
    "        date_debut = date_suivante\n",
    "        date_suivante = ajout_7_jrs(date_suivante)"
   ]
  },
  {
   "cell_type": "markdown",
   "id": "90b340f3-7212-4972-b2dc-c22fec0b6a8c",
   "metadata": {},
   "source": [
    "## Récupération des tweets"
   ]
  },
  {
   "cell_type": "code",
   "execution_count": null,
   "id": "f33cb8a6-0ded-4c26-bd94-216db71077f7",
   "metadata": {},
   "outputs": [],
   "source": [
    "import_pfizer_tweets(\"2021-06-23\", \"2021-12-01\")"
   ]
  },
  {
   "cell_type": "code",
   "execution_count": null,
   "id": "57bb1c06-580f-4581-9ddf-77656605f78c",
   "metadata": {},
   "outputs": [],
   "source": [
    "csv_tweets_entre2dates(\"pfizer\", \"2021-11-24\", \"2021-12-1\")"
   ]
  },
  {
   "cell_type": "code",
   "execution_count": null,
   "id": "a356a648-02ab-49d4-bf58-2fbe1c130dd7",
   "metadata": {},
   "outputs": [],
   "source": [
    "csv_tweets_entre2dates(\"moderna\", \"2021-09-13\", \"2021-09-30\")"
   ]
  },
  {
   "cell_type": "code",
   "execution_count": null,
   "id": "e67b95dd-e2cc-492e-b8d6-a71cd7f9636c",
   "metadata": {},
   "outputs": [],
   "source": [
    "csv_tweets_entre2dates(\"moderna\", \"2021-11-13\", \"2021-12-01\")"
   ]
  },
  {
   "cell_type": "code",
   "execution_count": null,
   "id": "4894ce78",
   "metadata": {},
   "outputs": [],
   "source": [
    "# import_pfizer_tweets(\"2021-03-1\", \"2021-06-1\")"
   ]
  },
  {
   "cell_type": "code",
   "execution_count": null,
   "id": "2fbce659",
   "metadata": {},
   "outputs": [],
   "source": [
    "#import_tweets(\"moderna\", \"2021-3-1\", \"2021-12-1\")\n",
    "#import_tweets(\"janssen\", \"2021-3-1\", \"2021-6-1\")\n",
    "#import_tweets(\"astrazeneca\", \"2021-3-1\", \"2021-6-1\")"
   ]
  },
  {
   "cell_type": "code",
   "execution_count": null,
   "id": "dee97e70-791b-40ec-a4d8-1296f044400e",
   "metadata": {},
   "outputs": [],
   "source": [
    "csv_tweets_entre2dates(\"moderna\", \"2021-06-01\", \"2021-06-09\")"
   ]
  },
  {
   "cell_type": "code",
   "execution_count": null,
   "id": "b0b1c994-8b95-45eb-9cea-9f15ee050a80",
   "metadata": {},
   "outputs": [],
   "source": [
    "# import_tweets(\"janssen\", \"2021-6-1\", \"2021-12-1\")\n",
    "import_tweets(\"astrazeneca\", \"2021-06-27\", \"2021-12-01\")"
   ]
  },
  {
   "cell_type": "code",
   "execution_count": null,
   "id": "ee6e4fca-4e8a-4fc6-8d63-28ddb3655e27",
   "metadata": {},
   "outputs": [],
   "source": [
    "csv_tweets_entre2dates(\"astrazeneca\", \"2021-11-14\", \"2021-12-01\")"
   ]
  },
  {
   "cell_type": "code",
   "execution_count": null,
   "id": "9bca2111-af8b-4ee0-941c-a30c97ca1215",
   "metadata": {},
   "outputs": [],
   "source": [
    "import_tweets(\"pfizer\", \"2021-03-01\", \"2021-06-01\")"
   ]
  },
  {
   "cell_type": "code",
   "execution_count": null,
   "id": "60f5f9e1-acf7-403d-a998-ce8896f6b533",
   "metadata": {},
   "outputs": [],
   "source": [
    "import_pfizer_tweets(\"2021-03-01\", \"2021-12-01\")"
   ]
  },
  {
   "cell_type": "code",
   "execution_count": null,
   "id": "d7714f09-ddcf-4e62-a2e4-1d7ee9a0caa8",
   "metadata": {},
   "outputs": [],
   "source": [
    "csv_tweets_entre2dates(\"astrazeneca\", \"2021-11-14\", \"2021-12-01\")"
   ]
  },
  {
   "cell_type": "code",
   "execution_count": null,
   "id": "7859a227-d18f-438d-9e30-475e70edc9bd",
   "metadata": {},
   "outputs": [],
   "source": [
    "import_pfizer_tweets(\"2021-12-01\", \"2021-12-29\")"
   ]
  },
  {
   "cell_type": "code",
   "execution_count": null,
   "id": "5d8690bf-54b6-4fba-899a-44e731cec590",
   "metadata": {},
   "outputs": [],
   "source": [
    "csv_tweets_entre2dates(\"astrazeneca\", \"2021-12-01\", \"2021-12-15\")"
   ]
  },
  {
   "cell_type": "code",
   "execution_count": null,
   "id": "3b428373-e01d-4a34-b688-1fb7ef5d9a45",
   "metadata": {},
   "outputs": [],
   "source": [
    "csv_tweets_entre2dates(\"astrazeneca\", \"2021-12-15\", \"2021-12-28\")"
   ]
  },
  {
   "cell_type": "code",
   "execution_count": null,
   "id": "1acfdf52-c046-4ab5-8ccf-a04fef5bd5ce",
   "metadata": {},
   "outputs": [],
   "source": [
    "csv_tweets_entre2dates(\"moderna\", \"2021-12-01\", \"2021-12-15\")"
   ]
  },
  {
   "cell_type": "markdown",
   "id": "46f09fae-4b6b-461f-8964-0efc7b962ec1",
   "metadata": {},
   "source": [
    "## Unification des tweets en un dataFrame"
   ]
  },
  {
   "cell_type": "code",
   "execution_count": null,
   "id": "9606d495-de24-4daf-bd59-5194b919be4b",
   "metadata": {},
   "outputs": [],
   "source": [
    "# Récupère la liste des fichiers csv\n",
    "csv_files = glob.glob('csv_tweets/*.csv')\n",
    "\n",
    "# Prépare une liste pour ajouter le contenu du fichier csv\n",
    "tweets_csv_list = []\n",
    "\n",
    "# Scanne la liste des fichiers à lire\n",
    "for file in csv_files:\n",
    "    tweets_csv_list.append(pd.read_csv(file))\n",
    "\n",
    "# Combine toutes les listes dans le sens des lignes\n",
    "df = pd.concat(tweets_csv_list axis=0, sort=True).sort_values(\"date\", ignore_index=True)\n",
    "\n",
    "# Exporte le dataframe dans le csv  tweets_vaccins\n",
    "df.to_csv(\"csv_tweets/tweets_vaccins.csv\", index=False)"
   ]
  },
  {
   "cell_type": "code",
   "execution_count": null,
   "id": "fe207faf-1598-459e-9223-ba5d9d6fccc5",
   "metadata": {},
   "outputs": [],
   "source": [
    "df"
   ]
  }
 ],
 "metadata": {
  "kernelspec": {
   "display_name": "Python 3 (ipykernel)",
   "language": "python",
   "name": "python3"
  },
  "language_info": {
   "codemirror_mode": {
    "name": "ipython",
    "version": 3
   },
   "file_extension": ".py",
   "mimetype": "text/x-python",
   "name": "python",
   "nbconvert_exporter": "python",
   "pygments_lexer": "ipython3",
   "version": "3.9.7"
  }
 },
 "nbformat": 4,
 "nbformat_minor": 5
}
